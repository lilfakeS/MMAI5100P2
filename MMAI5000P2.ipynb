{
 "cells": [
  {
   "cell_type": "code",
   "execution_count": 10,
   "metadata": {},
   "outputs": [],
   "source": [
    "import datetime\n",
    "import requests\n",
    "from bs4 import BeautifulSoup\n",
    "import xml.etree.ElementTree as ET \n",
    "import pandas as pd \n",
    "import urllib.request"
   ]
  },
  {
   "cell_type": "code",
   "execution_count": 11,
   "metadata": {},
   "outputs": [],
   "source": [
    "import ssl\n",
    "ssl._create_default_https_context = ssl._create_unverified_context"
   ]
  },
  {
   "cell_type": "code",
   "execution_count": 16,
   "metadata": {},
   "outputs": [
    {
     "name": "stdout",
     "output_type": "stream",
     "text": [
      "?C=N;O=D\n",
      "?C=M;O=A\n",
      "?C=S;O=A\n",
      "?C=D;O=A\n",
      "/alerts/cap/\n",
      "CWHX/\n",
      "CWNT/\n",
      "CWTO/\n",
      "CWUL/\n",
      "CWVR/\n",
      "CWWG/\n",
      "LAND/\n"
     ]
    }
   ],
   "source": [
    "url_withoutday = 'https://dd.weather.gc.ca/alerts/cap/'\n",
    "current_date = datetime.datetime.now()\n",
    "formatted_date = current_date.strftime(\"%Y%m%d\")\n",
    "url = url_withoutday + formatted_date + '/'\n",
    "reqs = requests.get(url)\n",
    "soup = BeautifulSoup(reqs.text, 'html.parser')\n",
    "\n",
    "urls = []\n",
    "for link in soup.find_all('a'):\n",
    "    print(link.get('href'))"
   ]
  },
  {
   "cell_type": "code",
   "execution_count": 19,
   "metadata": {},
   "outputs": [
    {
     "name": "stdout",
     "output_type": "stream",
     "text": [
      "{urn:oasis:names:tc:emergency:cap:1.2}alert\n",
      "                 sender language                             headline   \n",
      "0  Environnement Canada    fr-CA  alerte d'orages violents en vigueur  \\\n",
      "\n",
      "  category   event response_type    urgency  severity certainty      audience   \n",
      "0      Met  orages       Monitor  Immediate  Moderate    Likely  grand public  \\\n",
      "\n",
      "                   effective                    expires  \n",
      "0  2023-08-04T13:14:12-00:00  2023-08-04T16:13:12-00:00  \n"
     ]
    },
    {
     "data": {
      "text/plain": [
       "[{'sender': 'Environnement Canada',\n",
       "  'language': 'fr-CA',\n",
       "  'headline': \"alerte d'orages violents en vigueur\",\n",
       "  'category': 'Met',\n",
       "  'event': 'orages',\n",
       "  'response_type': 'Monitor',\n",
       "  'urgency': 'Immediate',\n",
       "  'severity': 'Moderate',\n",
       "  'certainty': 'Likely',\n",
       "  'audience': 'grand public',\n",
       "  'effective': '2023-08-04T13:14:12-00:00',\n",
       "  'expires': '2023-08-04T16:13:12-00:00'}]"
      ]
     },
     "execution_count": 19,
     "metadata": {},
     "output_type": "execute_result"
    }
   ],
   "source": [
    "#路径可以改成自己的CAP文件路径\n",
    "tree = ET.parse ('/Users/justinsheng/Downloads/T_MBCN00_C_LAND_202308041314_1550947327.cap') \n",
    "root = tree.getroot() \n",
    "\n",
    "print (root.tag) \n",
    "\n",
    "data = [] \n",
    "xmlns = root.tag.strip('alert') \n",
    "\n",
    "for alert_info in root.findall (xmlns+'info'): \n",
    "    for area in alert_info.findall(xmlns+'area'):\n",
    "        #print(area.find(xmlnst'areaDesc').text) \n",
    "        alert_dict = {'sender':alert_info.find(xmlns+'senderName').text, \n",
    "                      'language':alert_info.find(xmlns+'language').text, \n",
    "                      #'area':area.find(xmlns+ 'areaDesc').te xtt, \n",
    "                      'headline':alert_info.find(xmlns+'headline').text, \n",
    "                      'category':alert_info.find(xmlns+'category').text, \n",
    "                      'event':alert_info.find(xmlns+'event').text, \n",
    "                      'response_type': alert_info.find(xmlns+'responseType').text, \n",
    "                      'urgency':alert_info.find(xmlns+ 'urgency').text, \n",
    "                      'severity': alert_info.find(xmlns+'severity').text,\n",
    "                      'certainty':alert_info.find(xmlns+ 'certainty').text, \n",
    "                      'audience' :alert_info.find(xmlns+'audience').text, \n",
    "                      'effective':alert_info.find(xmlns+'effective').text, \n",
    "                      'expires':alert_info.find(xmlns+'expires').text,\n",
    "                      } \n",
    "        \n",
    "data.append (alert_dict) \n",
    "print (pd.DataFrame (data))\n",
    "data"
   ]
  },
  {
   "cell_type": "code",
   "execution_count": 20,
   "metadata": {},
   "outputs": [
    {
     "name": "stdout",
     "output_type": "stream",
     "text": [
      "               sender language                               headline   \n",
      "0  Environment Canada    en-CA  severe thunderstorm warning in effect  \\\n",
      "\n",
      "  category         event response_type    urgency  severity certainty   \n",
      "0      Met  thunderstorm       Monitor  Immediate  Moderate    Likely  \\\n",
      "\n",
      "         audience                  effective                    expires  \n",
      "0  general public  2023-08-04T13:14:12-00:00  2023-08-04T16:13:12-00:00  \n"
     ]
    }
   ],
   "source": [
    "data = [] \n",
    "alert_info = root.find('{urn:oasis:names:tc:emergency:cap:1.2}info')\n",
    "\n",
    "for area in alert_info.findall(xmlns+'area'):\n",
    "        #print(area.find(xmlnst'areaDesc').text) \n",
    "        alert_dict = {'sender':alert_info.find(xmlns+'senderName').text, \n",
    "                      'language':alert_info.find(xmlns+'language').text, \n",
    "                      #'area':area.find(xmlns+ 'areaDesc').te xtt, \n",
    "                      'headline':alert_info.find(xmlns+'headline').text, \n",
    "                      'category':alert_info.find(xmlns+'category').text, \n",
    "                      'event':alert_info.find(xmlns+'event').text, \n",
    "                      'response_type': alert_info.find(xmlns+'responseType').text, \n",
    "                      'urgency':alert_info.find(xmlns+ 'urgency').text, \n",
    "                      'severity': alert_info.find(xmlns+'severity').text,\n",
    "                      'certainty':alert_info.find(xmlns+ 'certainty').text, \n",
    "                      'audience' :alert_info.find(xmlns+'audience').text, \n",
    "                      'effective':alert_info.find(xmlns+'effective').text, \n",
    "                      'expires':alert_info.find(xmlns+'expires').text,\n",
    "                      } \n",
    "        \n",
    "data.append (alert_dict) \n",
    "print (pd.DataFrame (data))\n",
    "\n",
    "\n",
    "for parameter in alert_info.findall(xmlns+'para meter'): \n",
    "      if \"Alert_Type\" in parameter.find(xmlns+'valueName').text: \n",
    "           print (parameter.find(xmlns+'value').text)"
   ]
  },
  {
   "cell_type": "code",
   "execution_count": null,
   "metadata": {},
   "outputs": [],
   "source": []
  }
 ],
 "metadata": {
  "kernelspec": {
   "display_name": "Python 3",
   "language": "python",
   "name": "python3"
  },
  "language_info": {
   "codemirror_mode": {
    "name": "ipython",
    "version": 3
   },
   "file_extension": ".py",
   "mimetype": "text/x-python",
   "name": "python",
   "nbconvert_exporter": "python",
   "pygments_lexer": "ipython3",
   "version": "3.11.3"
  },
  "orig_nbformat": 4
 },
 "nbformat": 4,
 "nbformat_minor": 2
}
