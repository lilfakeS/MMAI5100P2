{
 "cells": [
  {
   "cell_type": "code",
   "execution_count": 36,
   "metadata": {},
   "outputs": [
    {
     "name": "stdout",
     "output_type": "stream",
     "text": [
      "?C=N;O=D\n",
      "?C=M;O=A\n",
      "?C=S;O=A\n",
      "?C=D;O=A\n",
      "/alerts/cap/\n",
      "CWHX/\n",
      "CWNT/\n",
      "CWTO/\n",
      "CWUL/\n",
      "CWVR/\n",
      "CWWG/\n",
      "LAND/\n"
     ]
    }
   ],
   "source": [
    "import datetime\n",
    "import requests\n",
    "from bs4 import BeautifulSoup\n",
    "\n",
    "url_withoutday = 'https://dd.weather.gc.ca/alerts/cap/'\n",
    "current_date = datetime.datetime.now()\n",
    "formatted_date = current_date.strftime(\"%Y%m%d\")\n",
    "url = url_withoutday + formatted_date + '/'\n",
    "reqs = requests.get(url)\n",
    "soup = BeautifulSoup(reqs.text, 'html.parser')\n",
    "\n",
    "urls = []\n",
    "for link in soup.find_all('a'):\n",
    "    print(link.get('href'))"
   ]
  },
  {
   "cell_type": "code",
   "execution_count": 39,
   "metadata": {},
   "outputs": [
    {
     "name": "stdout",
     "output_type": "stream",
     "text": [
      "{urn:oasis:names:tc:emergency:cap:1.2}alert\n",
      "                 sender language                                    headline   \n",
      "0  Environnement Canada    fr-CA  bulletin météorologique spécial en vigueur  \\\n",
      "\n",
      "  category  event response_type urgency severity certainty      audience   \n",
      "0      Met  météo       Monitor  Future    Minor  Possible  grand public  \\\n",
      "\n",
      "                   effective                    expires  \n",
      "0  2023-08-09T01:15:58-00:00  2023-08-09T17:10:26-00:00  \n"
     ]
    },
    {
     "data": {
      "text/plain": [
       "[{'sender': 'Environnement Canada',\n",
       "  'language': 'fr-CA',\n",
       "  'headline': 'bulletin météorologique spécial en vigueur',\n",
       "  'category': 'Met',\n",
       "  'event': 'météo',\n",
       "  'response_type': 'Monitor',\n",
       "  'urgency': 'Future',\n",
       "  'severity': 'Minor',\n",
       "  'certainty': 'Possible',\n",
       "  'audience': 'grand public',\n",
       "  'effective': '2023-08-09T01:15:58-00:00',\n",
       "  'expires': '2023-08-09T17:10:26-00:00'}]"
      ]
     },
     "execution_count": 39,
     "metadata": {},
     "output_type": "execute_result"
    }
   ],
   "source": [
    "import xml.etree.ElementTree as ET \n",
    "import pandas as pd \n",
    "\n",
    "tree = ET.parse ('/Users/justinsheng/Downloads/T_WSCN11_C_CWHX_202308090110_3302326297.cap') \n",
    "root = tree.getroot() \n",
    "\n",
    "print (root.tag) \n",
    "\n",
    "data = [] \n",
    "xmlns = root.tag.strip('alert') \n",
    "\n",
    "for alert_info in root.findall (xmlns+'info'): \n",
    "    for area in alert_info.findall(xmlns+'area'):\n",
    "        #print(area.find(xmlnst'areaDesc').text) \n",
    "        alert_dict = {'sender':alert_info.find(xmlns+'senderName').text, \n",
    "                      'language':alert_info.find(xmlns+'language').text, \n",
    "                      #'area':area.find(xmlns+ 'areaDesc').te xtt, \n",
    "                      'headline':alert_info.find(xmlns+'headline').text, \n",
    "                      'category':alert_info.find(xmlns+'category').text, \n",
    "                      'event':alert_info.find(xmlns+'event').text, \n",
    "                      'response_type': alert_info.find(xmlns+'responseType').text, \n",
    "                      'urgency':alert_info.find(xmlns+ 'urgency').text, \n",
    "                      'severity': alert_info.find(xmlns+'severity').text,\n",
    "                      'certainty':alert_info.find(xmlns+ 'certainty').text, \n",
    "                      'audience' :alert_info.find(xmlns+'audience').text, \n",
    "                      'effective':alert_info.find(xmlns+'effective').text, \n",
    "                      'expires':alert_info.find(xmlns+'expires').text,\n",
    "                      } \n",
    "        \n",
    "data.append (alert_dict) \n",
    "print (pd.DataFrame (data))\n",
    "data"
   ]
  },
  {
   "cell_type": "code",
   "execution_count": 41,
   "metadata": {},
   "outputs": [
    {
     "name": "stdout",
     "output_type": "stream",
     "text": [
      "               sender language                             headline category   \n",
      "0  Environment Canada    en-CA  special weather statement in effect      Met  \\\n",
      "\n",
      "     event response_type urgency severity certainty        audience   \n",
      "0  weather       Monitor  Future    Minor  Possible  general public  \\\n",
      "\n",
      "                   effective                    expires  \n",
      "0  2023-08-09T01:15:58-00:00  2023-08-09T17:10:26-00:00  \n"
     ]
    }
   ],
   "source": [
    "data = [] \n",
    "alert_info = root.find('{urn:oasis:names:tc:emergency:cap:1.2}info')\n",
    "\n",
    "for area in alert_info.findall(xmlns+'area'):\n",
    "        #print(area.find(xmlnst'areaDesc').text) \n",
    "        alert_dict = {'sender':alert_info.find(xmlns+'senderName').text, \n",
    "                      'language':alert_info.find(xmlns+'language').text, \n",
    "                      #'area':area.find(xmlns+ 'areaDesc').te xtt, \n",
    "                      'headline':alert_info.find(xmlns+'headline').text, \n",
    "                      'category':alert_info.find(xmlns+'category').text, \n",
    "                      'event':alert_info.find(xmlns+'event').text, \n",
    "                      'response_type': alert_info.find(xmlns+'responseType').text, \n",
    "                      'urgency':alert_info.find(xmlns+ 'urgency').text, \n",
    "                      'severity': alert_info.find(xmlns+'severity').text,\n",
    "                      'certainty':alert_info.find(xmlns+ 'certainty').text, \n",
    "                      'audience' :alert_info.find(xmlns+'audience').text, \n",
    "                      'effective':alert_info.find(xmlns+'effective').text, \n",
    "                      'expires':alert_info.find(xmlns+'expires').text,\n",
    "                      } \n",
    "        \n",
    "data.append (alert_dict) \n",
    "print (pd.DataFrame (data))\n",
    "\n",
    "\n",
    "for parameter in alert_info.findall(xmlns+'para meter'): \n",
    "      if \"Alert_Type\" in parameter.find(xmlns+'valueName').text: \n",
    "           print (parameter.find(xmlns+'value').text)"
   ]
  },
  {
   "cell_type": "code",
   "execution_count": null,
   "metadata": {},
   "outputs": [],
   "source": []
  }
 ],
 "metadata": {
  "language_info": {
   "name": "python"
  },
  "orig_nbformat": 4
 },
 "nbformat": 4,
 "nbformat_minor": 2
}
